{
 "cells": [
  {
   "cell_type": "code",
   "execution_count": null,
   "metadata": {},
   "outputs": [],
   "source": [
    "from google.colab import drive\n",
    "drive.mount('/content/drive')\t\n",
    "import os\n",
    "os.chdir('/content/drive/MyDrive/gpl new')\n",
    "datapath='./data/'"
   ]
  },
  {
   "cell_type": "code",
   "execution_count": null,
   "metadata": {
    "colab": {
     "base_uri": "https://localhost:8080/",
     "height": 363
    },
    "executionInfo": {
     "elapsed": 9383,
     "status": "ok",
     "timestamp": 1660074176651,
     "user": {
      "displayName": "Jinkuo Cui",
      "userId": "06925942994210006102"
     },
     "user_tz": -60
    },
    "id": "nlt4iP-i00Ym",
    "outputId": "e0c610ce-d84d-4f61-c38f-0a2774513e62"
   },
   "outputs": [],
   "source": [
    "%pip install deap\n",
    "%pip install scoop\n",
    "#%% import packages\n",
    "import numpy as np\n",
    "import pandas as pd\n",
    "from statsmodels import regression\n",
    "import statsmodels.api as sm\n",
    "import operator\n",
    "import math\n",
    "import random\n",
    "from datetime import datetime\n",
    "import os\n",
    "from tqdm import tqdm\n",
    "import deap\n",
    "from deap import base, creator, gp, tools, algorithms\n",
    "import pickle\n",
    "import matplotlib.pyplot as plt\n",
    "from scoop import futures\n",
    "plt.rcParams[\"font.sans-serif\"] = [\"SimHei\"]"
   ]
  },
  {
   "cell_type": "code",
   "execution_count": null,
   "metadata": {
    "executionInfo": {
     "elapsed": 15,
     "status": "ok",
     "timestamp": 1660074176652,
     "user": {
      "displayName": "Jinkuo Cui",
      "userId": "06925942994210006102"
     },
     "user_tz": -60
    },
    "id": "zSkpcgSl0wpk"
   },
   "outputs": [],
   "source": [
    "#%% functions\n",
    "def read_pickle(str1):\n",
    "    with open(datapath + \"{}.pkl\".format(str1), \"rb\") as f:\n",
    "        data = pickle.load(f)\n",
    "    return data\n",
    "\n",
    "\n",
    "def store_pickle(data, str1):\n",
    "    with open(datapath + \"{}.pkl\".format(str1), \"wb\") as f:\n",
    "        pickle.dump(data, f, protocol=4)\n",
    "\n",
    "\n",
    "def train_test_split(data, train_ratio):\n",
    "    return (\n",
    "        data.iloc[: round(train_ratio * (len(data)))],\n",
    "        data.iloc[round(train_ratio * (len(data))) :],\n",
    "    )\n",
    "\n",
    "\n"
   ]
  },
  {
   "cell_type": "code",
   "execution_count": null,
   "metadata": {
    "executionInfo": {
     "elapsed": 13,
     "status": "ok",
     "timestamp": 1660074176653,
     "user": {
      "displayName": "Jinkuo Cui",
      "userId": "06925942994210006102"
     },
     "user_tz": -60
    },
    "id": "RaX5MwVS0zZq"
   },
   "outputs": [],
   "source": [
    "features = ['NEWS_SENTIMENT_DAILY_AVG',\n",
    " 'PE_RATIO',\n",
    " 'IS_DILUTED_EPS',\n",
    " 'CASH_RATIO',\n",
    " 'EBIT',\n",
    " 'ASSET_TURNOVER',\n",
    " 'PX_HIGH',\n",
    " 'PX_LOW',\n",
    " 'PX_OPEN',\n",
    " 'BLOOMBERG_CLOSE_PRICE',\n",
    " 'PX_VOLUME',\n",
    " 'CUR_MKT_CAP']"
   ]
  },
  {
   "cell_type": "code",
   "execution_count": null,
   "metadata": {
    "executionInfo": {
     "elapsed": 631,
     "status": "ok",
     "timestamp": 1660074177272,
     "user": {
      "displayName": "Jinkuo Cui",
      "userId": "06925942994210006102"
     },
     "user_tz": -60
    },
    "id": "jpQgv4Oo3CX5"
   },
   "outputs": [],
   "source": [
    "data = []\n",
    "close = read_pickle('close_price')\n",
    "for feature in features:\n",
    "  data.append(read_pickle(feature))\n",
    "dat = []\n",
    "dat_test = []\n",
    "for d in data:\n",
    "  tmp,tmp_test = train_test_split(d,0.7)\n",
    "  dat.append(tmp)\n",
    "  dat_test.append(tmp_test)\n",
    "\n",
    "close_train,close_test=train_test_split(close,0.7)\n",
    "rt_20_train = close_train.pct_change(20).ffill()\n",
    "rt_20_test = close_test.pct_change(20).ffill()"
   ]
  },
  {
   "cell_type": "code",
   "execution_count": null,
   "metadata": {
    "colab": {
     "base_uri": "https://localhost:8080/",
     "height": 411
    },
    "executionInfo": {
     "elapsed": 1161,
     "status": "ok",
     "timestamp": 1659980298651,
     "user": {
      "displayName": "Jinkuo Cui",
      "userId": "06925942994210006102"
     },
     "user_tz": -60
    },
    "id": "CG2QITvwgMWo",
    "outputId": "fd711f27-be36-4bb5-ef5d-55f4b9db819a"
   },
   "outputs": [],
   "source": [
    "close.describe()"
   ]
  },
  {
   "cell_type": "code",
   "execution_count": null,
   "metadata": {
    "executionInfo": {
     "elapsed": 546,
     "status": "ok",
     "timestamp": 1660074177814,
     "user": {
      "displayName": "Jinkuo Cui",
      "userId": "06925942994210006102"
     },
     "user_tz": -60
    },
    "id": "NhC6sMYJ841y"
   },
   "outputs": [],
   "source": [
    "#%% layer operate \n",
    "import OperatorFunc\n",
    "\n",
    "Layer1 = gp.PrimitiveSet(\"Layer1\", 12)\n",
    "Layer1.addPrimitive(OperatorFunc.Add, 2)  # the number of operator\n",
    "Layer1.addPrimitive(OperatorFunc.Sub, 2)\n",
    "Layer1.addPrimitive(OperatorFunc.Mul, 2)\n",
    "Layer1.addPrimitive(OperatorFunc.Div, 2)\n",
    "Layer1.addPrimitive(OperatorFunc.min_, 2)\n",
    "Layer1.addPrimitive(OperatorFunc.max_, 2)\n",
    "Layer1.addPrimitive(OperatorFunc.inv, 1)\n",
    "Layer1.addPrimitive(OperatorFunc.sqrt, 1)\n",
    "Layer1.addPrimitive(OperatorFunc.sin, 1)\n",
    "Layer1.addPrimitive(OperatorFunc.cos, 1)\n",
    "Layer1.addPrimitive(OperatorFunc.abslog, 1)\n",
    "Layer1.addPrimitive(OperatorFunc.mean5, 1)\n",
    "Layer1.addPrimitive(OperatorFunc.mean10, 1)\n",
    "Layer1.addPrimitive(OperatorFunc.mean20, 1)\n",
    "Layer1.addPrimitive(OperatorFunc.std10, 1)\n",
    "Layer1.addPrimitive(OperatorFunc.std20, 1)\n",
    "Layer1.addPrimitive(OperatorFunc.max10, 1)\n",
    "Layer1.addPrimitive(OperatorFunc.max20, 1)\n",
    "Layer1.addPrimitive(OperatorFunc.min10, 1)\n",
    "Layer1.addPrimitive(OperatorFunc.min20, 1)\n",
    "Layer1.addPrimitive(OperatorFunc.shift10, 1)\n",
    "Layer1.addPrimitive(OperatorFunc.shift20, 1)\n",
    "Layer1.addPrimitive(OperatorFunc.square, 1)\n",
    "Layer1.addPrimitive(OperatorFunc.rank10, 1)\n",
    "Layer1.addPrimitive(OperatorFunc.quantile_3_60, 1)\n",
    "Layer1.addPrimitive(OperatorFunc.quantile_1_60, 1)\n",
    " \n",
    "\n",
    "\n",
    "Layer1.renameArguments(\n",
    "    ARG0=features[0], ARG1=features[1], ARG2=features[2], ARG3=features[3], ARG4=features[4], ARG5=features[5],\n",
    "    ARG6=features[6], ARG7=features[7], ARG8=features[8], ARG9=features[9], ARG10=features[10], ARG11=features[11],\n",
    ")\n",
    "\n",
    "creator.create(\"FitnessMax\", base.Fitness, weights=(1.0,))\n",
    "creator.create(\"Individual\", gp.PrimitiveTree, fitness=creator.FitnessMax)\n",
    "\n",
    "L1box = base.Toolbox()\n",
    "L1box.register(\"attr_float\", random.random)\n",
    "L1box.register(\"expr\", gp.genHalfAndHalf, pset=Layer1, min_=1, max_=4)  # can also choose gp.Full here\n",
    "L1box.register(\"individual\", tools.initIterate, creator.Individual, L1box.expr)\n",
    "L1box.register(\"population\", tools.initRepeat, list, L1box.individual)\n",
    "L1box.register(\"compile\", gp.compile, pset=Layer1)\n",
    "L1box.register(\"max\",futures.map)\n",
    "L1pop = L1box.population(n=500)\n",
    "\n",
    "alterbox = base.Toolbox()\n",
    "alterbox.register(\"expr\", gp.genHalfAndHalf, pset=Layer1, min_=1, max_=5)\n",
    "alterbox.register(\"individual\", tools.initIterate, creator.Individual, alterbox.expr)\n"
   ]
  },
  {
   "cell_type": "code",
   "execution_count": null,
   "metadata": {
    "colab": {
     "base_uri": "https://localhost:8080/"
    },
    "executionInfo": {
     "elapsed": 283,
     "status": "ok",
     "timestamp": 1660074179776,
     "user": {
      "displayName": "Jinkuo Cui",
      "userId": "06925942994210006102"
     },
     "user_tz": -60
    },
    "id": "wGnBxLTyPhMM",
    "outputId": "c827e267-48c3-4682-b0cf-3b95f7bd1d25"
   },
   "outputs": [],
   "source": [
    "#%% 目标函数\n",
    "def fitnessIC(individual, dat, y):\n",
    "    func = L1box.compile(expr=individual)\n",
    "\n",
    "    \"\"\"It can be understand as dataframe calculation which has columns--stocks, index--timestamp\"\"\"\n",
    "\n",
    "    try:\n",
    "        y_pred = func(dat[0], dat[1], dat[2], dat[3], dat[4], dat[5],dat[6], dat[7], dat[8], dat[9], dat[10], dat[11])\n",
    "        factor = y_pred.copy()\n",
    "    except:\n",
    "        return 0,\n",
    "\n",
    "    factor.replace([np.inf, -np.inf], np.nan, inplace=True)\n",
    "\n",
    "    ret = y.copy()\n",
    "    # mask = y[-1].shift(-1).fillna(True)  | factor.isnull() | y[0].isnull()  \n",
    "    # factor[mask] = np.nan\n",
    "    # ret[mask] = np.nan\n",
    "    #\n",
    "    # y_pred, ret = y_pred.dropna(axis  = 0, how = 'all').align(ret.dropna(axis  = 0, how = 'all'), join='outer', axis=1)\n",
    "    # y_pred, ret = y_pred.align(ret, join='inner', axis=0)\n",
    "    IC_series = factor.corrwith(ret, axis=1).dropna()\n",
    "    Rank_IC = IC_series.mean() if IC_series.mean() is not np.nan else 0\n",
    "    return (Rank_IC,)\n",
    "\n",
    "\n",
    "#%% train the model\n",
    "print(\"Start training...\")\n",
    "L1box.register(\"evaluate\", fitnessIC, dat=dat, y=rt_20_train.shift(-21))  #training set is on the left\n",
    "L1box.register(\"select\", tools.selTournament, tournsize=3)\n",
    "\n",
    "\n",
    "L1box.register(\"mate\", gp.cxOnePoint)\n",
    "L1box.register(\"expr_mut\", gp.genFull, min_=0, max_=2)\n",
    "L1box.register(\"mutate\", gp.mutUniform, expr=L1box.expr_mut, pset=Layer1)\n",
    "\n",
    "L1box.decorate(\"mate\", gp.staticLimit(key=operator.attrgetter(\"height\"), max_value=17))\n",
    "L1box.decorate(\n",
    "    \"mutate\", gp.staticLimit(key=operator.attrgetter(\"height\"), max_value=17)\n",
    ")\n",
    "\n",
    "n_population = 100\n",
    "n_generation = 30\n",
    "\n",
    "pop = L1box.population(n=n_population)\n",
    "hof = tools.HallOfFame(n_population * n_generation)\n",
    "stats = tools.Statistics(lambda ind: ind.fitness.values)\n",
    "stats.register(\"avg\", np.mean)\n",
    "stats.register(\"min\", np.min)\n",
    "stats.register(\"max\", np.max)"
   ]
  },
  {
   "cell_type": "code",
   "execution_count": null,
   "metadata": {
    "colab": {
     "background_save": true,
     "base_uri": "https://localhost:8080/"
    },
    "id": "sOxvwd5frPkt",
    "outputId": "8631ab41-1f17-44a4-9754-df7d901cb5da"
   },
   "outputs": [],
   "source": [
    "pop, log = algorithms.eaSimple(\n",
    "    pop,\n",
    "    L1box,\n",
    "    cxpb=0.5,\n",
    "    mutpb=0.2,\n",
    "    ngen=n_generation,\n",
    "    stats=stats,\n",
    "    halloffame=hof,\n",
    "    verbose=True,\n",
    ")\n",
    "#%% best\n",
    "print(str(hof.items[0]))\n",
    "print(hof.keys[0])\n",
    "print(hof.items[0].fitness)\n"
   ]
  },
  {
   "cell_type": "code",
   "execution_count": null,
   "metadata": {
    "executionInfo": {
     "elapsed": 159,
     "status": "ok",
     "timestamp": 1660074185494,
     "user": {
      "displayName": "Jinkuo Cui",
      "userId": "06925942994210006102"
     },
     "user_tz": -60
    },
    "id": "2SiCDyplPwEY"
   },
   "outputs": [],
   "source": [
    "hof = read_pickle('hof')"
   ]
  },
  {
   "cell_type": "code",
   "execution_count": null,
   "metadata": {
    "colab": {
     "base_uri": "https://localhost:8080/"
    },
    "executionInfo": {
     "elapsed": 373,
     "status": "ok",
     "timestamp": 1660074186571,
     "user": {
      "displayName": "Jinkuo Cui",
      "userId": "06925942994210006102"
     },
     "user_tz": -60
    },
    "id": "dPCSeJVTP3qR",
    "outputId": "66431ce5-1a6a-446c-e4a6-2e2a18379c39"
   },
   "outputs": [],
   "source": [
    "for i in hof.items:\n",
    "  print(str(i))"
   ]
  },
  {
   "cell_type": "code",
   "execution_count": null,
   "metadata": {
    "colab": {
     "base_uri": "https://localhost:8080/"
    },
    "executionInfo": {
     "elapsed": 3924552,
     "status": "ok",
     "timestamp": 1660078309335,
     "user": {
      "displayName": "Jinkuo Cui",
      "userId": "06925942994210006102"
     },
     "user_tz": -60
    },
    "id": "OAR1DWO2hX0N",
    "outputId": "ba81855d-3f3f-4d7d-9525-eecac30e1b2b"
   },
   "outputs": [],
   "source": [
    "from tqdm import tqdm\n",
    "data = pd.DataFrame()\n",
    "func = L1box.compile(expr=hof.items[0])\n",
    "y_pred = func(dat[0], dat[1], dat[2], dat[3], dat[4], dat[5],dat[6], dat[7], dat[8], dat[9], dat[10], dat[11])\n",
    "ind = y_pred.stack().index\n",
    "\n",
    "for digit in tqdm(range(0,300)):\n",
    "  func = L1box.compile(expr=hof.items[digit])\n",
    "  y_pred = func(dat[0], dat[1], dat[2], dat[3], dat[4], dat[5],dat[6], dat[7], dat[8], dat[9], dat[10], dat[11])\n",
    "  data[digit]=y_pred.stack().reindex(ind).values"
   ]
  },
  {
   "cell_type": "code",
   "execution_count": null,
   "metadata": {
    "executionInfo": {
     "elapsed": 217266,
     "status": "ok",
     "timestamp": 1660078768610,
     "user": {
      "displayName": "Jinkuo Cui",
      "userId": "06925942994210006102"
     },
     "user_tz": -60
    },
    "id": "EHVzMOZJIKGb"
   },
   "outputs": [],
   "source": [
    "co=data.corr()"
   ]
  },
  {
   "cell_type": "code",
   "execution_count": null,
   "metadata": {
    "executionInfo": {
     "elapsed": 255,
     "status": "ok",
     "timestamp": 1660078769419,
     "user": {
      "displayName": "Jinkuo Cui",
      "userId": "06925942994210006102"
     },
     "user_tz": -60
    },
    "id": "RjIuT7cAZhiW"
   },
   "outputs": [],
   "source": [
    "co.to_csv(r'corr.csv')"
   ]
  },
  {
   "cell_type": "code",
   "execution_count": null,
   "metadata": {
    "id": "DqcI8ttvbDHR"
   },
   "outputs": [],
   "source": [
    "\n",
    "\n",
    "#%% test function\n",
    "def cal_ic(rt_dic, plotting=True):\n",
    "    print(\"starting factor analysis...\")\n",
    "\n",
    "    ic_list = []\n",
    "    for period in {1, 5, 10, 20}:\n",
    "        ic_list.append(\n",
    "            factor_df.apply(lambda x: x.corr(rt_dic[period].loc[x.name]), axis=1)\n",
    "        )\n",
    "\n",
    "    ic_df = pd.concat(ic_list, axis=1).dropna(how=\"all\")\n",
    "    ic_df.columns = [1, 5, 10, 20]\n",
    "    ic_summary_table = pd.concat(\n",
    "        [ic_df.mean(), ic_df.std(), np.sqrt(len(ic_df)) * (ic_df.mean() / ic_df.std())],\n",
    "        axis=1,\n",
    "        keys=[\"IC mean\", \"IC std\", \"IC T-Statistics\"],\n",
    "    ).T\n",
    "    print(ic_summary_table)\n",
    "\n",
    "    if plotting:\n",
    "        ic_df.rolling(21).mean().shift(-11).plot(\n",
    "            title=\"monthly mean IC\",\n",
    "            kind=\"area\",\n",
    "            stacked=False,\n",
    "            figsize=(20, 10),\n",
    "            colormap=\"plasma\",\n",
    "            grid=True,\n",
    "        )\n",
    "        plt.show()\n",
    "    return ic_df\n",
    "\n",
    "def cal_group_ret(rt_dic,y_pred, n=10):\n",
    "    print(\"factor grouping analysis\")\n",
    "    group = y_pred.apply(lambda x:pd.cut(x,bins = n, labels = range(1,n+1)))\n",
    "    mean_ret_dict = {}\n",
    "    for period in rt_dic.keys():\n",
    "        mean_ret_dict[period] = group.apply(\n",
    "            lambda x: rt_dic[period].loc[x.name].groupby(x).mean() / period, axis=1,\n",
    "        )\n",
    "    mean_ret_df = pd.concat(\n",
    "        [21 * (mean_ret_dict[p].mean()) for p in rt_dic.keys()],\n",
    "        axis=1,\n",
    "        keys=rt_dic.keys(),\n",
    "    )\n",
    "    mean_ret_df.plot(kind=\"bar\", figsize=(20, 8), title=\"monthly mean return per group\")\n",
    "    plt.show()\n",
    "\n",
    "    long_short_nvs = pd.concat(\n",
    "        [\n",
    "            (\n",
    "                mean_ret_dict[p].iloc[:, n - 1] - mean_ret_dict[p].iloc[:, 0] + 1\n",
    "            ).cumprod()\n",
    "            for p in rt_dic.keys()\n",
    "        ],\n",
    "        axis=1,\n",
    "        keys=rt_dic.keys(),\n",
    "    )\n",
    "    long_short_nvs.plot(\n",
    "        title=\"long short net value\", figsize=(20, 10), colormap=\"plasma\", grid=True\n",
    "    )\n",
    "    plt.show()\n",
    "    return mean_ret_dict\n",
    "\n"
   ]
  },
  {
   "cell_type": "code",
   "execution_count": null,
   "metadata": {
    "colab": {
     "base_uri": "https://localhost:8080/",
     "height": 1000
    },
    "executionInfo": {
     "elapsed": 39858,
     "status": "ok",
     "timestamp": 1660062150706,
     "user": {
      "displayName": "Jinkuo Cui",
      "userId": "06925942994210006102"
     },
     "user_tz": -60
    },
    "id": "xZuCE0YaF_4-",
    "outputId": "6cdf7014-3e40-4204-cfa4-1f0a7b63bdaf"
   },
   "outputs": [],
   "source": [
    "digit=0\n",
    "func = L1box.compile(expr=hof.items[digit])\n",
    "\n",
    "y_pred = func(dat[0], dat[1], dat[2], dat[3], dat[4], dat[5],dat[6], dat[7], dat[8], dat[9], dat[10], dat[11])\n",
    "#%% insample test\n",
    "factor_df = y_pred.copy()\n",
    "rt_dic = {}\n",
    "for i in {1, 5, 10, 20}:\n",
    "    rt_dic[i] = close_train.ffill().pct_change(i).shift(-i - 1)\n",
    "\n",
    "ic_df = cal_ic(rt_dic)\n",
    "cal_group_ret(rt_dic,y_pred)\n",
    "#%% outsample test\n",
    "y_test = func(\n",
    "    dat_test[0], dat_test[1], dat_test[2], dat_test[3], dat_test[4], dat_test[5],\n",
    "    dat_test[6], dat_test[7], dat_test[8], dat_test[9], dat_test[10], dat_test[11],\n",
    ")\n",
    "factor_df = y_test.copy()\n",
    "rt_dic = {}\n",
    "for i in {1, 5, 10, 20}:\n",
    "    rt_dic[i] = close_test.ffill().pct_change(i).shift(-i - 1)\n",
    "ic_df_test = cal_ic(rt_dic)\n",
    "cal_group_ret(rt_dic,y_test)"
   ]
  },
  {
   "cell_type": "code",
   "execution_count": null,
   "metadata": {
    "colab": {
     "base_uri": "https://localhost:8080/",
     "height": 1000
    },
    "executionInfo": {
     "elapsed": 9240,
     "status": "ok",
     "timestamp": 1659637800716,
     "user": {
      "displayName": "Jinkuo Cui",
      "userId": "06925942994210006102"
     },
     "user_tz": -60
    },
    "id": "uMWVTgZMHU7S",
    "outputId": "62914fb7-746e-4595-da0e-95cd2e42d0b0"
   },
   "outputs": [],
   "source": [
    "store_pickle(hof,'hof')"
   ]
  }
 ],
 "metadata": {
  "accelerator": "TPU",
  "colab": {
   "authorship_tag": "ABX9TyOwHyvpqYlUNwePWaPv+ZoI",
   "background_execution": "on",
   "collapsed_sections": [],
   "machine_shape": "hm",
   "name": "gpl.ipynb",
   "provenance": []
  },
  "gpuClass": "standard",
  "kernelspec": {
   "display_name": "Python 3 (ipykernel)",
   "language": "python",
   "name": "python3"
  },
  "language_info": {
   "codemirror_mode": {
    "name": "ipython",
    "version": 3
   },
   "file_extension": ".py",
   "mimetype": "text/x-python",
   "name": "python",
   "nbconvert_exporter": "python",
   "pygments_lexer": "ipython3",
   "version": "3.9.12"
  },
  "varInspector": {
   "cols": {
    "lenName": 16,
    "lenType": 16,
    "lenVar": 40
   },
   "kernels_config": {
    "python": {
     "delete_cmd_postfix": "",
     "delete_cmd_prefix": "del ",
     "library": "var_list.py",
     "varRefreshCmd": "print(var_dic_list())"
    },
    "r": {
     "delete_cmd_postfix": ") ",
     "delete_cmd_prefix": "rm(",
     "library": "var_list.r",
     "varRefreshCmd": "cat(var_dic_list()) "
    }
   },
   "types_to_exclude": [
    "module",
    "function",
    "builtin_function_or_method",
    "instance",
    "_Feature"
   ],
   "window_display": false
  }
 },
 "nbformat": 4,
 "nbformat_minor": 1
}
